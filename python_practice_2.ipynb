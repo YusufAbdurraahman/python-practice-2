{
  "nbformat": 4,
  "nbformat_minor": 0,
  "metadata": {
    "colab": {
      "provenance": [],
      "authorship_tag": "ABX9TyNllNAhoQOY/x9Zb/gBJmwq",
      "include_colab_link": true
    },
    "kernelspec": {
      "name": "python3",
      "display_name": "Python 3"
    },
    "language_info": {
      "name": "python"
    }
  },
  "cells": [
    {
      "cell_type": "markdown",
      "metadata": {
        "id": "view-in-github",
        "colab_type": "text"
      },
      "source": [
        "<a href=\"https://colab.research.google.com/github/YusufAbdurraahman/python-practice-2/blob/main/python_practice_2.ipynb\" target=\"_parent\"><img src=\"https://colab.research.google.com/assets/colab-badge.svg\" alt=\"Open In Colab\"/></a>"
      ]
    },
    {
      "cell_type": "markdown",
      "source": [
        "# **Python Practice 2**"
      ],
      "metadata": {
        "id": "QpSPCbjMPMz_"
      }
    },
    {
      "cell_type": "markdown",
      "source": [
        "Latihan menghitung nilai rata-rata"
      ],
      "metadata": {
        "id": "a0QuwIwQr1SX"
      }
    },
    {
      "cell_type": "code",
      "source": [
        "nilai_ujian = []\n",
        "\n",
        "for i in range(6):\n",
        "  input_nilai = float(input(\"Masukkan nilai : \"))\n",
        "  nilai_ujian.append(input_nilai)\n",
        "\n",
        "rata_rata = sum(nilai_ujian) / len(nilai_ujian)\n",
        "\n",
        "if rata_rata >= 75:\n",
        "  print(\"Lulus\")\n",
        "else:\n",
        "  print(\"Tidak lulus\")\n",
        "\n",
        "for l in nilai_ujian:\n",
        "  print(l)\n",
        "\n",
        "print(rata_rata)"
      ],
      "metadata": {
        "colab": {
          "base_uri": "https://localhost:8080/"
        },
        "id": "YVH_S8FPPO6v",
        "outputId": "cd45e3de-6fd2-43a5-825f-ad74d9721573"
      },
      "execution_count": null,
      "outputs": [
        {
          "output_type": "stream",
          "name": "stdout",
          "text": [
            "Masukkan nilai : 100\n",
            "Masukkan nilai : 100\n",
            "Masukkan nilai : 98\n",
            "Masukkan nilai : 100\n",
            "Masukkan nilai : 100\n",
            "Masukkan nilai : 100\n",
            "Lulus\n",
            "100.0\n",
            "100.0\n",
            "98.0\n",
            "100.0\n",
            "100.0\n",
            "100.0\n",
            "99.66666666666667\n"
          ]
        }
      ]
    },
    {
      "cell_type": "markdown",
      "source": [
        "Latihan struktur data"
      ],
      "metadata": {
        "id": "Vb1BNKPWuZql"
      }
    },
    {
      "cell_type": "code",
      "source": [
        "data_orang = {\n",
        "    \"1.\" : {\"nama\" : \"Upi\", \"umur\" : 35},\n",
        "    \"2.\" : {\"nama\" : \"Kanjut\", \"umur\" : 19},\n",
        "    \"3.\" : {\"nama\" : \"Celink\", \"umur\" : 30}\n",
        "}\n",
        "\n",
        "for key, item in data_orang.items():\n",
        "  print(f\"{key}nama : {item['nama']} \\n  umur : {item['umur']}\")\n",
        "\n",
        "orang_ke_2 = data_orang[\"2.\"][\"umur\"]\n",
        "print(orang_ke_2)"
      ],
      "metadata": {
        "colab": {
          "base_uri": "https://localhost:8080/"
        },
        "id": "Xu48k9DsuY0f",
        "outputId": "70b3ea30-e8f5-41c9-9bd7-d8703396be54"
      },
      "execution_count": null,
      "outputs": [
        {
          "output_type": "stream",
          "name": "stdout",
          "text": [
            "1.nama : Upi \n",
            "  umur : 35\n",
            "2.nama : Kanjut \n",
            "  umur : 19\n",
            "3.nama : Celink \n",
            "  umur : 30\n",
            "19\n"
          ]
        }
      ]
    },
    {
      "cell_type": "markdown",
      "source": [
        "Latihan Restoran sederhana"
      ],
      "metadata": {
        "id": "fyxbW-1Zy38v"
      }
    },
    {
      "cell_type": "code",
      "source": [
        "print(\"== Daftar Menu Makanan == \\n\")\n",
        "\n",
        "menu_makanan = {\n",
        "    1: {\"nama\" : \"Turkey Leg\", \"harga\" : 1000000},\n",
        "    2: {\"nama\" : \"Nasi Kebuli\", \"harga\" : 900000},\n",
        "    3: {\"nama\" : \"Sushi\", \"harga\": 750000}\n",
        "}\n",
        "\n",
        "keranjang = []\n",
        "total_harga = 0\n",
        "\n",
        "for nomor, item in menu_makanan.items():\n",
        "  print(f\"{nomor}. Nama makanan  : {item['nama']} \\n   Harga Makanan : Rp. {item['harga']}\")\n",
        "\n",
        "print(\"\\n\")\n",
        "\n",
        "while True:\n",
        "  pilih = input(\"Silahkan pilih menu makanan (ketik 0 untuk keluar) : \")\n",
        "\n",
        "  try:\n",
        "      pilih_menu = int(pilih)\n",
        "  except ValueError:\n",
        "      print(\"❌ Input harus berupa angka!\\n\")\n",
        "      continue\n",
        "\n",
        "  if pilih_menu == 0:\n",
        "    print(\"Anda keluar dari daftar menu\")\n",
        "    break\n",
        "\n",
        "  if pilih_menu in menu_makanan:\n",
        "    try:\n",
        "      jumlah_makanan = int(input(\"Jumlah Makanan : \"))\n",
        "\n",
        "    except ValueError:\n",
        "      print(\"Harus memakai angka ! \\n\")\n",
        "      continue\n",
        "\n",
        "    total = menu_makanan[pilih_menu][\"harga\"]\n",
        "    total_harga += total\n",
        "\n",
        "    keranjang.append({\n",
        "      \"Menu\" : {menu_makanan[pilih_menu][\"nama\"]},\n",
        "      \"harga\" : {menu_makanan[pilih_menu][\"harga\"]},\n",
        "      \"jumlah\" : {jumlah_makanan}\n",
        "    })\n",
        "\n",
        "    print(\"================================================================ \\n\")\n",
        "\n",
        "    print(f\"✅ Ditambahkan {jumlah_makanan}x {menu_makanan[pilih_menu]['nama']} (Rp. {menu_makanan[pilih_menu]['harga']})\")\n",
        "  else:\n",
        "    print(\"Menu makanan tidak ada\")\n",
        "\n",
        "\n",
        "\n",
        "print(\"\\n=== Struk Pembayaran ===\")\n",
        "print(f\"Total yang harus dibayar: Rp{total_harga:,}\")\n",
        "print(\"Terima kasih sudah mampir ☕😊\")"
      ],
      "metadata": {
        "colab": {
          "base_uri": "https://localhost:8080/"
        },
        "id": "xZ_mBGnfy7jd",
        "outputId": "16875f38-f69a-48b8-85cf-0e52145edfb6"
      },
      "execution_count": null,
      "outputs": [
        {
          "output_type": "stream",
          "name": "stdout",
          "text": [
            "== Daftar Menu Makanan == \n",
            "\n",
            "1. Nama makanan  : Turkey Leg \n",
            "   Harga Makanan : Rp. 1000000\n",
            "2. Nama makanan  : Nasi Kebuli \n",
            "   Harga Makanan : Rp. 900000\n",
            "3. Nama makanan  : Sushi \n",
            "   Harga Makanan : Rp. 750000\n",
            "\n",
            "\n",
            "Silahkan pilih menu makanan (ketik 0 untuk keluar) : 2\n",
            "Jumlah Makanan : 3\n",
            "================================================================ \n",
            "\n",
            "✅ Ditambahkan 3x Nasi Kebuli (Rp. 900000)\n",
            "Silahkan pilih menu makanan (ketik 0 untuk keluar) : 0\n",
            "Anda keluar dari daftar menu\n",
            "\n",
            "=== Struk Pembayaran ===\n",
            "Total yang harus dibayar: Rp900,000\n",
            "Terima kasih sudah mampir ☕😊\n"
          ]
        }
      ]
    },
    {
      "cell_type": "markdown",
      "source": [
        "Latihan konversi suhu sederhana"
      ],
      "metadata": {
        "id": "AChPuz3INUND"
      }
    },
    {
      "cell_type": "code",
      "source": [
        "input_suhu_cel = float(input(\"Masukkan suhu Celcius : \"))\n",
        "\n",
        "fahrenheit = (input_suhu_cel * 9/5) + 32\n",
        "kelvin = input_suhu_cel + 273.15\n",
        "\n",
        "print(\"Suhu Celcius ke Fahrenheit adalah : \",fahrenheit)\n",
        "print(\"Suhu Celcius ke kelvin adalah : \",kelvin)"
      ],
      "metadata": {
        "colab": {
          "base_uri": "https://localhost:8080/"
        },
        "id": "Ag9FIusdP0Mz",
        "outputId": "5022d23e-80e3-4994-9b53-a6812f72828d"
      },
      "execution_count": 2,
      "outputs": [
        {
          "output_type": "stream",
          "name": "stdout",
          "text": [
            "Masukkan suhu Celcius : 20\n",
            "Suhu Celcius ke Fahrenheit adalah :  68.0\n",
            "Suhu Celcius ke kelvin adalah :  293.15\n"
          ]
        }
      ]
    },
    {
      "cell_type": "markdown",
      "source": [
        "Latihan penghitung Jumlah Huruf Vokal"
      ],
      "metadata": {
        "id": "wwGwZtC5Rg9R"
      }
    },
    {
      "cell_type": "code",
      "source": [
        "input_vokal = input(\"Masukkan vokal : \")\n",
        "\n",
        "jumlah_vokal = 0\n",
        "vokal = \"a\",\"i\",\"u\",\"e\",\"o\"\n",
        "\n",
        "for v in input_vokal:\n",
        "  if v in vokal:\n",
        "    jumlah_vokal += 1\n",
        "\n",
        "print(\"ini adalah vokal\", jumlah_vokal)"
      ],
      "metadata": {
        "colab": {
          "base_uri": "https://localhost:8080/"
        },
        "id": "kQ6och76RiXn",
        "outputId": "48eef619-9221-41ef-8c40-0842f83cec47"
      },
      "execution_count": 19,
      "outputs": [
        {
          "output_type": "stream",
          "name": "stdout",
          "text": [
            "Masukkan vokal : hehehe\n",
            "ini adalah vokal 3\n"
          ]
        }
      ]
    },
    {
      "cell_type": "markdown",
      "source": [
        "Latihan analysis suhu ruangan"
      ],
      "metadata": {
        "id": "X93Hy17iVjVu"
      }
    },
    {
      "cell_type": "code",
      "source": [
        "list_suhu = []\n",
        "\n",
        "for hari in range(1,8):\n",
        "  input_suhu = float(input(f\"Masukkan suhu hari ke {hari} : \"))\n",
        "  list_suhu.append(input_suhu)\n",
        "\n",
        "rata_rata = sum(list_suhu) / len(list_suhu)\n",
        "suhu_terendah = min(list_suhu)\n",
        "suhu_tertinggi = max(list_suhu)\n",
        "\n",
        "print(rata_rata)\n",
        "print(suhu_terendah)\n",
        "print(suhu_tertinggi)"
      ],
      "metadata": {
        "colab": {
          "base_uri": "https://localhost:8080/"
        },
        "id": "2smut5tjVs9k",
        "outputId": "877934a1-bf58-48be-ecde-addc4b5ef16a"
      },
      "execution_count": 37,
      "outputs": [
        {
          "output_type": "stream",
          "name": "stdout",
          "text": [
            "Masukkan suhu hari ke 1 : 19\n",
            "Masukkan suhu hari ke 2 : 33\n",
            "Masukkan suhu hari ke 3 : 29\n",
            "Masukkan suhu hari ke 4 : 3\n",
            "Masukkan suhu hari ke 5 : 35\n",
            "Masukkan suhu hari ke 6 : 26\n",
            "Masukkan suhu hari ke 7 : 20\n",
            "23.571428571428573\n",
            "3.0\n",
            "35.0\n"
          ]
        }
      ]
    },
    {
      "cell_type": "markdown",
      "source": [
        "Latihan ATM sederhana"
      ],
      "metadata": {
        "id": "0tv0GQwhab_K"
      }
    },
    {
      "cell_type": "code",
      "source": [
        "saldo = 1000000000\n",
        "\n",
        "print(\"1. Cek Saldo\")\n",
        "print(\"2. Tarik Uang\")\n",
        "print(\"3. Setor Uang\")\n",
        "print(\"4. Keluar\")\n",
        "\n",
        "while True:\n",
        "  inputan = int(input(\"Masukkan pilihan angka : \"))\n",
        "\n",
        "  if inputan == 1:\n",
        "    print(f\"Saldo anda berjumlah Rp. {saldo}\")\n",
        "\n",
        "  if inputan == 2:\n",
        "    input_jumlah_tarik = float(input(\"Masukkan jumlah penarikan : Rp. \"))\n",
        "    if input_jumlah_tarik <= saldo:\n",
        "      saldo -= input_jumlah_tarik\n",
        "\n",
        "  if inputan == 3:\n",
        "    input_jumlah_setor = float(input(\"Masukkan jumlah setor\"))\n",
        "    saldo += input_jumlah_setor\n",
        "\n",
        "  if inputan == 4:\n",
        "    print(\"and keluar dari ATM\")\n",
        "    break\n",
        "\n",
        "print(f\"Jumlah saldo anda di atm adalah Rp.{saldo}\")"
      ],
      "metadata": {
        "colab": {
          "base_uri": "https://localhost:8080/"
        },
        "id": "0jHizxNSafCy",
        "outputId": "9b30356d-3fb9-47cd-b62a-31e7ff50e0f5"
      },
      "execution_count": 40,
      "outputs": [
        {
          "output_type": "stream",
          "name": "stdout",
          "text": [
            "1. Cek Saldo\n",
            "2. Tarik Uang\n",
            "3. Setor Uang\n",
            "4. Keluar\n",
            "Masukkan pilihan angka : 1\n",
            "Saldo anda berjumlah Rp. 1000000000\n",
            "Masukkan pilihan angka : 2\n",
            "Masukkan jumlah penarikan : Rp. 10000\n",
            "Masukkan pilihan angka : 4\n",
            "and keluar dari ATM\n",
            "Jumlah saldo anda di atm adalah Rp.999990000.0\n"
          ]
        }
      ]
    }
  ]
}