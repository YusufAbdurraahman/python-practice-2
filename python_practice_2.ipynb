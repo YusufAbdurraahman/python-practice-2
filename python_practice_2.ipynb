{
  "nbformat": 4,
  "nbformat_minor": 0,
  "metadata": {
    "colab": {
      "provenance": [],
      "authorship_tag": "ABX9TyNxlITygsoN/VPVfXIyB5Nq",
      "include_colab_link": true
    },
    "kernelspec": {
      "name": "python3",
      "display_name": "Python 3"
    },
    "language_info": {
      "name": "python"
    }
  },
  "cells": [
    {
      "cell_type": "markdown",
      "metadata": {
        "id": "view-in-github",
        "colab_type": "text"
      },
      "source": [
        "<a href=\"https://colab.research.google.com/github/YusufAbdurraahman/python-practice-2/blob/main/python_practice_2.ipynb\" target=\"_parent\"><img src=\"https://colab.research.google.com/assets/colab-badge.svg\" alt=\"Open In Colab\"/></a>"
      ]
    },
    {
      "cell_type": "markdown",
      "source": [
        "# **Python Practice 2**"
      ],
      "metadata": {
        "id": "QpSPCbjMPMz_"
      }
    },
    {
      "cell_type": "markdown",
      "source": [
        "Latihan menghitung nilai rata-rata"
      ],
      "metadata": {
        "id": "a0QuwIwQr1SX"
      }
    },
    {
      "cell_type": "code",
      "source": [
        "nilai_ujian = []\n",
        "\n",
        "for i in range(6):\n",
        "  input_nilai = float(input(\"Masukkan nilai : \"))\n",
        "  nilai_ujian.append(input_nilai)\n",
        "\n",
        "rata_rata = sum(nilai_ujian) / len(nilai_ujian)\n",
        "\n",
        "if rata_rata >= 75:\n",
        "  print(\"Lulus\")\n",
        "else:\n",
        "  print(\"Tidak lulus\")\n",
        "\n",
        "for l in nilai_ujian:\n",
        "  print(l)\n",
        "\n",
        "print(rata_rata)"
      ],
      "metadata": {
        "colab": {
          "base_uri": "https://localhost:8080/"
        },
        "id": "YVH_S8FPPO6v",
        "outputId": "3d388b17-5409-4a75-d2be-258da8f6b98a"
      },
      "execution_count": 7,
      "outputs": [
        {
          "output_type": "stream",
          "name": "stdout",
          "text": [
            "Masukkan nilai : 100\n",
            "Masukkan nilai : 95\n",
            "Masukkan nilai : 99\n",
            "Masukkan nilai : 98\n",
            "Masukkan nilai : 100\n",
            "Masukkan nilai : 100\n",
            "Lulus\n",
            "100.0\n",
            "95.0\n",
            "99.0\n",
            "98.0\n",
            "100.0\n",
            "100.0\n",
            "98.66666666666667\n"
          ]
        }
      ]
    },
    {
      "cell_type": "markdown",
      "source": [
        "Latihan struktur data"
      ],
      "metadata": {
        "id": "Vb1BNKPWuZql"
      }
    },
    {
      "cell_type": "code",
      "source": [
        "data_orang = {\n",
        "    \"1.\" : {\"nama\" : \"Upi\", \"umur\" : 35},\n",
        "    \"2.\" : {\"nama\" : \"Kanjut\", \"umur\" : 19},\n",
        "    \"3.\" : {\"nama\" : \"Celink\", \"umur\" : 30}\n",
        "}\n",
        "\n",
        "for key, item in data_orang.items():\n",
        "  print(f\"{key}nama : {item['nama']} \\n  umur : {item['umur']}\")\n",
        "\n",
        "orang_ke_2 = data_orang[\"2.\"][\"umur\"]\n",
        "print(orang_ke_2)"
      ],
      "metadata": {
        "colab": {
          "base_uri": "https://localhost:8080/"
        },
        "id": "Xu48k9DsuY0f",
        "outputId": "35941fe4-9dcb-4d4b-c579-6f22e6566986"
      },
      "execution_count": 32,
      "outputs": [
        {
          "output_type": "stream",
          "name": "stdout",
          "text": [
            "1.nama : Upi \n",
            "  umur : 35\n",
            "2.nama : Kanjut \n",
            "  umur : 19\n",
            "3.nama : Celink \n",
            "  umur : 30\n",
            "19\n"
          ]
        }
      ]
    },
    {
      "cell_type": "markdown",
      "source": [
        "Latihan Restoran sederhana"
      ],
      "metadata": {
        "id": "fyxbW-1Zy38v"
      }
    },
    {
      "cell_type": "code",
      "source": [
        "print(\"== Daftar Menu Makanan == \\n\")\n",
        "\n",
        "menu_makanan = {\n",
        "    1: {\"nama\" : \"Turkey Leg\", \"harga\" : 1000000},\n",
        "    2: {\"nama\" : \"Nasi Kebuli\", \"harga\" : 900000},\n",
        "    3: {\"nama\" : \"Sushi\", \"harga\": 750000}\n",
        "}\n",
        "\n",
        "keranjang = []\n",
        "total_harga = 0\n",
        "\n",
        "for nomor, item in menu_makanan.items():\n",
        "  print(f\"{nomor}. Nama makanan  : {item['nama']} \\n   Harga Makanan : Rp. {item['harga']}\")\n",
        "\n",
        "print(\"\\n\")\n",
        "\n",
        "while True:\n",
        "  pilih_menu = int(input(\"Silahkan pilih menu makanan (ketik q untuk keluar) : \"))\n",
        "  if pilih_menu == 0:\n",
        "    print(\"Anda keluar dari daftar menu\")\n",
        "    break\n",
        "\n",
        "  try:\n",
        "    if pilih_menu in menu_makanan:\n",
        "      jumlah_makanan = int(input(\"Jumlah Makanan : \"))\n",
        "\n",
        "  except ValueError:\n",
        "    print(\"Harus memakai angka ! \\n\")\n",
        "    continue\n",
        "\n",
        "  total = menu_makanan[pilih_menu][\"harga\"]\n",
        "  total_harga += total\n",
        "\n",
        "  keranjang.append({\n",
        "      \"Menu\" : {menu_makanan[pilih_menu][\"nama\"]},\n",
        "      \"harga\" : {menu_makanan[pilih_menu][\"harga\"]},\n",
        "      \"jumlah\" : {jumlah_makanan}\n",
        "  })\n",
        "  print(\"================================================================ \\n\")\n",
        "\n",
        "  print(f\"✅ Ditambahkan {jumlah_makanan}x {menu_makanan[pilih_menu]['nama']} (Rp. {menu_makanan[pilih_menu]['harga']})\")\n",
        "\n",
        "\n",
        "print(\"\\n=== Struk Pembayaran ===\")\n",
        "print(f\"Total yang harus dibayar: Rp{total_harga:,}\")\n",
        "print(\"Terima kasih sudah mampir ☕😊\")2"
      ],
      "metadata": {
        "colab": {
          "base_uri": "https://localhost:8080/"
        },
        "id": "xZ_mBGnfy7jd",
        "outputId": "7c4beed8-b38d-4a39-8daf-36f3c2299fe9"
      },
      "execution_count": 157,
      "outputs": [
        {
          "output_type": "stream",
          "name": "stdout",
          "text": [
            "== Daftar Menu Makanan == \n",
            "\n",
            "1. Nama makanan  : Turkey Leg \n",
            "   Harga Makanan : Rp. 1000000\n",
            "2. Nama makanan  : Nasi Kebuli \n",
            "   Harga Makanan : Rp. 900000\n",
            "3. Nama makanan  : Sushi \n",
            "   Harga Makanan : Rp. 750000\n",
            "\n",
            "\n",
            "Silahkan pilih menu makanan (ketik q untuk keluar) : 1\n",
            "Jumlah Makanan : \n",
            "Harus memakai angka ! \n",
            "\n",
            "Silahkan pilih menu makanan (ketik q untuk keluar) : 1\n",
            "Jumlah Makanan : 2\n",
            "================================================================ \n",
            "\n",
            "✅ Ditambahkan 2x Turkey Leg (Rp. 1000000)\n",
            "Silahkan pilih menu makanan (ketik q untuk keluar) : 1\n",
            "Jumlah Makanan : 3\n",
            "================================================================ \n",
            "\n",
            "✅ Ditambahkan 3x Turkey Leg (Rp. 1000000)\n",
            "Silahkan pilih menu makanan (ketik q untuk keluar) : 1\n",
            "Jumlah Makanan : 3\n",
            "================================================================ \n",
            "\n",
            "✅ Ditambahkan 3x Turkey Leg (Rp. 1000000)\n",
            "Silahkan pilih menu makanan (ketik q untuk keluar) : 3\n",
            "Jumlah Makanan : 10\n",
            "================================================================ \n",
            "\n",
            "✅ Ditambahkan 10x Sushi (Rp. 750000)\n",
            "Silahkan pilih menu makanan (ketik q untuk keluar) : 0\n",
            "Anda keluar dari daftar menu\n",
            "\n",
            "=== Struk Pembayaran ===\n",
            "Total yang harus dibayar: Rp3,750,000\n",
            "Terima kasih sudah mampir ☕😊\n"
          ]
        }
      ]
    }
  ]
}